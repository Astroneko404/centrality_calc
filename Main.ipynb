{
 "cells": [
  {
   "cell_type": "markdown",
   "metadata": {
    "collapsed": true,
    "pycharm": {
     "is_executing": false,
     "name": "#%% md\n"
    }
   },
   "source": [
    "### Calculating the centrality of every node in the Arpanet"
   ]
  },
  {
   "cell_type": "markdown",
   "source": [
    "Here is an image of the Arpanet, according to homework assignment 1: \n",
    "<img src='https://user-images.githubusercontent.com/33112694/69269469-fcbf9480-0bc8-11ea-92a3-73fb4f689ec7.png' />\n",
    "\n",
    "For edges without weight values, we assume that the weight is 0.1, \n",
    "and here is the corresponding adjacent matrix:\n",
    "\n",
    "|&nbsp;| RAND | UCSB | SU   | UCB | SRI | UCLA | SDC | UTAH | WU   | ILL  | MICH | CMU  | ARPA | BTL  | HARV | LL   | BBN  | MAC  | DART |\n",
    "|------|------|------|------|-----|-----|------|-----|------|------|------|------|------|------|------|------|------|------|------|------|\n",
    "| RAND | 0    | 0.3  | 0    | 0   | 0   | 0    | 0.1 | 2    | 0    | 0    | 0    | 0    | 0    | 0    | 0    | 0    | 0    | 0    | 0    |\n",
    "| UCSB | 0.3  | 0    | 0.7  | 0   | 0   | 0.3  | 0   | 0    | 0    | 0    | 0    | 0    | 0    | 0    | 0    | 0    | 0    | 0    | 0    |\n",
    "| SU   | 0    | 0.7  | 0    | 0.1 | 0   | 0    | 0   | 0    | 0    | 0    | 0    | 0    | 0    | 0    | 0    | 0    | 0    | 8    | 0    |\n",
    "| UCB  | 0    | 0    | 0.1  | 0   | 0.1 | 0    | 0   | 0.1  | 0    | 0    | 0    | 0    | 0    | 0    | 0    | 0    | 0    | 0    | 0    |\n",
    "| SRI  | 0    | 0    | 0    | 0.1 | 0   | 0.1  | 0   | 0    | 0    | 0    | 0    | 0    | 0    | 0    | 8    | 0    | 0    | 0    | 0    |\n",
    "| UCLA | 0    | 0.3  | 0    | 0   | 1   | 0    | 0.1 | 0    | 0    | 0    | 0    | 0    | 0    | 0    | 0    | 0    | 0    | 0    | 0    |\n",
    "| SDC  | 0.1  | 0    | 0    | 0   | 0   | 0.1  | 0   | 0    | 5    | 0    | 0    | 0    | 0    | 0    | 0    | 0    | 0    | 0    | 0    |\n",
    "| UTAH | 2    | 0    | 0    | 0.1 | 0   | 0    | 0   | 0    | 0    | 4    | 0    | 0    | 0    | 0    | 0    | 0    | 0    | 0    | 0    |\n",
    "| WU   | 0    | 0    | 0    | 0   | 0   | 0    | 5   | 0    | 0    | 0.4  | 0    | 1.8  | 0    | 0    | 0    | 0    | 0    | 0    | 0    |\n",
    "| ILL  | 0    | 0    | 0    | 0   | 0   | 0    | 0   | 4    | 0.4  | 0    | 1    | 0    | 0    | 0    | 0    | 0    | 0    | 0    | 0    |\n",
    "| MICH | 0    | 0    | 0    | 0   | 0   | 0    | 0   | 0    | 0    | 1    | 0    | 0    | 0    | 1.5  | 0    | 0    | 0    | 0    | 1.8  |\n",
    "| CMU  | 0    | 0    | 0    | 0   | 0   | 0    | 0   | 0    | 1.8  | 0    | 0    | 0    | 0.5  | 0    | 0    | 0    | 1.4  | 0    | 0    |\n",
    "| ARPA | 0    | 0    | 0    | 0   | 0   | 0    | 0   | 0    | 0    | 0    | 0    | 0.5  | 0    | 0.6  | 0    | 0    | 0    | 0    | 0    |\n",
    "| BTL  | 0    | 0    | 0    | 0   | 0   | 0    | 0   | 0    | 0    | 0    | 1.5  | 0    | 0.6  | 0    | 0    | 0.6  | 0    | 0    | 0    |\n",
    "| HARV | 0    | 0    | 0    | 0   | 8   | 0    | 0   | 0    | 0    | 0    | 0    | 0    | 0    | 0    | 0    | 0.1  | 0    | 0    | 0.3  |\n",
    "| LL   | 0    | 0    | 0    | 0   | 0   | 0    | 0   | 0    | 0    | 0    | 0    | 0    | 0    | 0.6  | 0.1  | 0    | 0.1  | 0    | 0    |\n",
    "| BBN  | 0    | 0    | 0    | 0   | 0   | 0    | 0   | 0    | 0    | 0    | 0    | 1.4  | 0    | 0    | 0    | 0.1  | 0    | 0.1  | 0    |\n",
    "| MAC  | 0    | 0    | 8    | 0   | 0   | 0    | 0   | 0    | 0    | 0    | 0    | 0    | 0    | 0    | 0    | 0    | 0.1  | 0    | 0.3  |\n",
    "| DART | 0    | 0    | 0    | 0   | 0   | 0    | 0   | 0    | 0    | 0    | 1.8  | 0    | 0    | 0    | 0.3  | 0    | 0    | 0.3  | 0    |"
   ],
   "metadata": {
    "collapsed": false,
    "pycharm": {
     "name": "#%% md\n"
    }
   }
  },
  {
   "cell_type": "code",
   "execution_count": 1,
   "outputs": [],
   "source": [
    "adj_mat = [\n",
    "    [0,0.3,0,0,0,0,0.1,2,0,0,0,0,0,0,0,0,0,0,0],    # RAND\n",
    "    [0.3,0,0.7,0,0,0.3,0,0,0,0,0,0,0,0,0,0,0,0,0],  # UCSB\n",
    "    [0,0.7,0,0.1,0,0,0,0,0,0,0,0,0,0,0,0,0,8,0],    # SU\n",
    "    [0,0,0.1,0,0.1,0,0,0.1,0,0,0,0,0,0,0,0,0,0,0],  # UCB\n",
    "    [0,0,0,0.1,0,0.1,0,0,0,0,0,0,0,0,8,0,0,0,0],    # SRI\n",
    "    [0,0.3,0,0,1,0,0.1,0,0,0,0,0,0,0,0,0,0,0,0],    # UCLA\n",
    "    [0.1,0,0,0,0,0.1,0,0,5,0,0,0,0,0,0,0,0,0,0],    # SDC\n",
    "    [2,0,0,0.1,0,0,0,0,0,4,0,0,0,0,0,0,0,0,0],      # UTAH\n",
    "    [0,0,0,0,0,0,5,0,0,0.4,0,1.8,0,0,0,0,0,0,0],    # WU\n",
    "    [0,0,0,0,0,0,0,4,0.4,0,1,0,0,0,0,0,0,0,0],      # ILL\n",
    "    [0,0,0,0,0,0,0,0,0,1,0,0,0,1.5,0,0,0,0,1.8],    # MICH\n",
    "    [0,0,0,0,0,0,0,0,1.8,0,0,0,0.5,0,0,0,1.4,0,0],  # CMU\n",
    "    [0,0,0,0,0,0,0,0,0,0,0,0.5,0,0.6,0,0,0,0,0],    # ARPA\n",
    "    [0,0,0,0,0,0,0,0,0,0,1.5,0,0.6,0,0,0.6,0,0,0],  # BTL\n",
    "    [0,0,0,0,8,0,0,0,0,0,0,0,0,0,0,0.1,0,0,0.3],    # HARV\n",
    "    [0,0,0,0,0,0,0,0,0,0,0,0,0,0.6,0.1,0,0.1,0,0],  # LL\n",
    "    [0,0,0,0,0,0,0,0,0,0,0,1.4,0,0,0,0.1,0,0.1,0],  # BBN\n",
    "    [0,0,8,0,0,0,0,0,0,0,0,0,0,0,0,0,0.1,0,0.3],    # MAC\n",
    "    [0,0,0,0,0,0,0,0,0,0,1.8,0,0,0,0.3,0,0,0.3,0]   # DART\n",
    "]"
   ],
   "metadata": {
    "collapsed": false,
    "pycharm": {
     "name": "#%%\n",
     "is_executing": false
    }
   }
  },
  {
   "cell_type": "markdown",
   "source": [
    "#### Degree Centrality\n",
    "Formula:\n",
    "\n",
    "<img src='https://user-images.githubusercontent.com/33112694/66724949-b170d400-ee1b-11e9-96f7-357996eadb8a.png' />"
   ],
   "metadata": {
    "collapsed": false
   }
  },
  {
   "cell_type": "code",
   "execution_count": 2,
   "outputs": [],
   "source": [
    "def degree_centrality(mat, weighted=False, alpha=1):\n",
    "    n = len(mat)\n",
    "    if n == 0:\n",
    "        return None\n",
    "    \n",
    "    result = []\n",
    "    for row in mat:\n",
    "        if not weighted:\n",
    "            nw_score = sum([1 for x in row if x > 0])\n",
    "            result.append(nw_score / (n - 1))\n",
    "        else:\n",
    "            nw_score = sum([1 for x in row if x > 0])\n",
    "            w_score = sum(row)\n",
    "            result.append(nw_score ** (1 - alpha) * w_score ** alpha / (n - 1))\n",
    "            \n",
    "    return result\n",
    "\n",
    "d_cent_non_weighted = degree_centrality(adj_mat, weighted=False)\n",
    "d_cent_weighted = degree_centrality(adj_mat, weighted=True, alpha=0.5)\n",
    "# print(d_cent_weighted)"
   ],
   "metadata": {
    "collapsed": false,
    "pycharm": {
     "name": "#%%\n",
     "is_executing": false
    }
   }
  },
  {
   "cell_type": "markdown",
   "source": [
    "If we ignore edge weights, the degree centrality for each node is:"
   ],
   "metadata": {
    "collapsed": false
   }
  },
  {
   "cell_type": "markdown",
   "source": [
    "| RAND | UCSB | SU   | UCB | SRI | UCLA | SDC | UTAH | WU   | ILL  | MICH | CMU  | ARPA | BTL  | HARV | LL   | BBN  | MAC  | DART |\n",
    "|:----:|:----:|:----:|:---:|:---:|:----:|:---:|:----:|:----:|:----:|:----:|:----:|:----:|:----:|:----:|:----:|:----:|:----:|:----:|\n",
    "| 0.17 | 0.17 | 0.17 | 0.17| 0.17| 0.17 | 0.17| 0.17 | 0.17 | 0.17 | 0.17 | 0.17 | 0.11 | 0.17 | 0.17 | 0.17 | 0.17 | 0.17 | 0.17 |"
   ],
   "metadata": {
    "collapsed": false
   }
  },
  {
   "cell_type": "markdown",
   "source": [
    "However, according to <i>Node Centrality in Weighted Networks: Generalizing Degree and Shortest Paths</i>\n",
    "by Tore Opsahl et al., we could improve the algorithm by combine the weighted node strength and the non-weighted node strength.\n",
    "\n",
    "Here is the weighted degree centrality:"
   ],
   "metadata": {
    "collapsed": false
   }
  },
  {
   "cell_type": "markdown",
   "source": [
    "| RAND | UCSB | SU   | UCB | SRI | UCLA | SDC | UTAH | WU   | ILL  | MICH | CMU  | ARPA | BTL  | HARV | LL   | BBN  | MAC  | DART |\n",
    "|:----:|:----:|:----:|:---:|:---:|:----:|:---:|:----:|:----:|:----:|:----:|:----:|:----:|:----:|:----:|:----:|:----:|:----:|:----:|\n",
    "| 0.15 | 0.11 | 0.29 |0.05 |0.28 | 0.11 |0.22 | 0.24 | 0.26 | 0.22 | 0.20 | 0.19 | 0.08 | 0.16 | 0.28 | 0.09 | 0.12 | 0.28 | 0.15 |"
   ],
   "metadata": {
    "collapsed": false
   }
  },
  {
   "cell_type": "markdown",
   "source": [
    "#### Closeness Centrality\n",
    "\n",
    "Formula:\n",
    "\n",
    "<img src='https://user-images.githubusercontent.com/33112694/66724978-044a8b80-ee1c-11e9-8913-aa2ee497d95f.png' />\n",
    "\n",
    "To calculate the shortest path with weighted edges, I used a modified version of the original Dijkstra algorithm mentioned in  \n",
    "<i>Node Centrality in Weighted Networks: Generalizing Degree and Shortest Paths</i>."
   ],
   "metadata": {
    "collapsed": false
   }
  },
  {
   "cell_type": "markdown",
   "source": [
    "This dijkstra function will calculate the sum of all paths that start with a specific node.\n",
    "By using the original closeness centrality formula, we could calculate the final centrality score for every node."
   ],
   "metadata": {
    "collapsed": false,
    "pycharm": {
     "name": "#%% md\n"
    }
   }
  },
  {
   "cell_type": "code",
   "execution_count": 3,
   "outputs": [],
   "source": [
    "from Closeness import dijkstra as dijkstra_c\n",
    "\n",
    "def closeness_centrality(mat, alpha=0.5):\n",
    "    n = len(mat)\n",
    "    return [(n - 1) / dijkstra_c(mat, i, alpha) for i in range(n)]\n",
    "\n",
    "c_cent_weighted = closeness_centrality(adj_mat, alpha=0.5)"
   ],
   "metadata": {
    "collapsed": false,
    "pycharm": {
     "name": "#%%\n",
     "is_executing": false
    }
   }
  },
  {
   "cell_type": "markdown",
   "source": [
    "As a result, here is the weighted closeness centrality for each node:\n",
    "\n",
    "| RAND | UCSB | SU   | UCB | SRI | UCLA | SDC | UTAH | WU   | ILL  | MICH | CMU  | ARPA | BTL  | HARV | LL   | BBN  | MAC  | DART |\n",
    "|:----:|:----:|:----:|:---:|:---:|:----:|:---:|:----:|:----:|:----:|:----:|:----:|:----:|:----:|:----:|:----:|:----:|:----:|:----:|\n",
    "| 0.31 | 0.27 | 0.28 |0.20 |0.24 | 0.27 |0.29 | 0.35 | 0.31 | 0.37 | 0.37 | 0.29 | 0.27 | 0.32 | 0.25 | 0.25 | 0.26 | 0.29 | 0.34 |"
   ],
   "metadata": {
    "collapsed": false
   }
  },
  {
   "cell_type": "markdown",
   "source": [
    "#### Betweenness Centrality\n",
    "Formula\n",
    "\n",
    "<img src='https://user-images.githubusercontent.com/33112694/66725056-0103cf80-ee1d-11e9-98fc-5ea91559e1e6.png' />"
   ],
   "metadata": {
    "collapsed": false
   }
  },
  {
   "cell_type": "code",
   "execution_count": 4,
   "outputs": [
    {
     "name": "stdout",
     "text": [
      "\n\nRAND\nVertex \t\t\t Path\n\n0 --> 1 \t\t0 1 \n0 --> 2 \t\t0 1 2 \n0 --> 3 \t\t0 7 3 \n0 --> 4 \t\t0 1 5 4 \n0 --> 5 \t\t0 1 5 \n0 --> 6 \t\t0 6 \n0 --> 7 \t\t0 7 \n0 --> 8 \t\t0 7 9 8 \n0 --> 9 \t\t0 7 9 \n0 --> 10 \t\t0 7 9 10 \n0 --> 11 \t\t0 7 9 8 11 \n0 --> 12 \t\t0 7 9 10 13 12 \n0 --> 13 \t\t0 7 9 10 13 \n0 --> 14 \t\t0 7 9 10 18 14 \n0 --> 15 \t\t0 7 9 10 13 15 \n0 --> 16 \t\t0 7 9 8 11 16 \n0 --> 17 \t\t0 1 2 17 \n0 --> 18 \t\t0 7 9 10 18 \n\nUCSB\nVertex \t\t\t Path\n\n1 --> 1 \t\t1 \n1 --> 2 \t\t1 2 \n1 --> 3 \t\t1 2 3 \n1 --> 4 \t\t1 5 4 \n1 --> 5 \t\t1 5 \n1 --> 6 \t\t1 0 6 \n1 --> 7 \t\t1 0 7 \n1 --> 8 \t\t1 0 7 9 8 \n1 --> 9 \t\t1 0 7 9 \n1 --> 10 \t\t1 0 7 9 10 \n1 --> 11 \t\t1 0 7 9 8 11 \n1 --> 12 \t\t1 0 7 9 10 13 12 \n1 --> 13 \t\t1 0 7 9 10 13 \n1 --> 14 \t\t1 5 4 14 \n1 --> 15 \t\t1 0 7 9 10 13 15 \n1 --> 16 \t\t1 2 17 16 \n1 --> 17 \t\t1 2 17 \n1 --> 18 \t\t1 2 17 18 \n\nSU\nVertex \t\t\t Path\n\n2 --> 1 \t\t2 1 \n2 --> 2 \t\t2 \n2 --> 3 \t\t2 3 \n2 --> 4 \t\t2 1 5 4 \n2 --> 5 \t\t2 1 5 \n2 --> 6 \t\t2 17 16 11 8 6 \n2 --> 7 \t\t2 1 0 7 \n2 --> 8 \t\t2 17 16 11 8 \n2 --> 9 \t\t2 17 18 10 9 \n2 --> 10 \t\t2 17 18 10 \n2 --> 11 \t\t2 17 16 11 \n2 --> 12 \t\t2 17 18 10 13 12 \n2 --> 13 \t\t2 17 18 10 13 \n2 --> 14 \t\t2 17 18 14 \n2 --> 15 \t\t2 17 18 10 13 15 \n2 --> 16 \t\t2 17 16 \n2 --> 17 \t\t2 17 \n2 --> 18 \t\t2 17 18 \n\nUCB\nVertex \t\t\t Path\n\n3 --> 1 \t\t3 2 1 \n3 --> 2 \t\t3 2 \n3 --> 3 \t\t3 \n3 --> 4 \t\t3 4 \n3 --> 5 \t\t3 2 1 5 \n3 --> 6 \t\t3 7 9 8 6 \n3 --> 7 \t\t3 7 \n3 --> 8 \t\t3 7 9 8 \n3 --> 9 \t\t3 7 9 \n3 --> 10 \t\t3 7 9 10 \n3 --> 11 \t\t3 7 9 8 11 \n3 --> 12 \t\t3 7 9 10 13 12 \n3 --> 13 \t\t3 7 9 10 13 \n3 --> 14 \t\t3 4 14 \n3 --> 15 \t\t3 4 14 15 \n3 --> 16 \t\t3 2 17 16 \n3 --> 17 \t\t3 2 17 \n3 --> 18 \t\t3 4 14 18 \n\nSRI\nVertex \t\t\t Path\n\n4 --> 1 \t\t4 5 1 \n4 --> 2 \t\t4 14 18 17 2 \n4 --> 3 \t\t4 3 \n4 --> 4 \t\t4 \n4 --> 5 \t\t4 5 \n4 --> 6 \t\t4 14 18 10 9 8 6 \n4 --> 7 \t\t4 14 18 10 9 7 \n4 --> 8 \t\t4 14 18 10 9 8 \n4 --> 9 \t\t4 14 18 10 9 \n4 --> 10 \t\t4 14 18 10 \n4 --> 11 \t\t4 14 18 10 9 8 11 \n4 --> 12 \t\t4 14 18 10 13 12 \n4 --> 13 \t\t4 14 18 10 13 \n4 --> 14 \t\t4 14 \n4 --> 15 \t\t4 14 15 \n4 --> 16 \t\t4 14 15 16 \n4 --> 17 \t\t4 14 18 17 \n4 --> 18 \t\t4 14 18 \n\nUCLA\nVertex \t\t\t Path\n\n5 --> 1 \t\t5 1 \n5 --> 2 \t\t5 1 2 \n5 --> 3 \t\t5 4 3 \n5 --> 4 \t\t5 4 \n5 --> 5 \t\t5 \n5 --> 6 \t\t5 6 \n5 --> 7 \t\t5 1 0 7 \n5 --> 8 \t\t5 6 8 \n5 --> 9 \t\t5 1 0 7 9 \n5 --> 10 \t\t5 4 14 18 10 \n5 --> 11 \t\t5 6 8 11 \n5 --> 12 \t\t5 6 8 11 12 \n5 --> 13 \t\t5 4 14 18 10 13 \n5 --> 14 \t\t5 4 14 \n5 --> 15 \t\t5 4 14 15 \n5 --> 16 \t\t5 6 8 11 16 \n5 --> 17 \t\t5 1 2 17 \n5 --> 18 \t\t5 4 14 18 \n\nSDC\nVertex \t\t\t Path\n\n6 --> 1 \t\t6 0 1 \n6 --> 2 \t\t6 8 11 16 17 2 \n6 --> 3 \t\t6 8 9 7 3 \n6 --> 4 \t\t6 5 4 \n6 --> 5 \t\t6 5 \n6 --> 6 \t\t6 \n6 --> 7 \t\t6 8 9 7 \n6 --> 8 \t\t6 8 \n6 --> 9 \t\t6 8 9 \n6 --> 10 \t\t6 8 9 10 \n6 --> 11 \t\t6 8 11 \n6 --> 12 \t\t6 8 11 12 \n6 --> 13 \t\t6 8 9 10 13 \n6 --> 14 \t\t6 5 4 14 \n6 --> 15 \t\t6 8 9 10 13 15 \n6 --> 16 \t\t6 8 11 16 \n6 --> 17 \t\t6 8 11 16 17 \n6 --> 18 \t\t6 8 9 10 18 \n\nUTAH\nVertex \t\t\t Path\n\n7 --> 1 \t\t7 0 1 \n7 --> 2 \t\t7 0 1 2 \n7 --> 3 \t\t7 3 \n7 --> 4 \t\t7 9 10 18 14 4 \n7 --> 5 \t\t7 0 1 5 \n7 --> 6 \t\t7 9 8 6 \n7 --> 7 \t\t7 \n7 --> 8 \t\t7 9 8 \n7 --> 9 \t\t7 9 \n7 --> 10 \t\t7 9 10 \n7 --> 11 \t\t7 9 8 11 \n7 --> 12 \t\t7 9 10 13 12 \n7 --> 13 \t\t7 9 10 13 \n7 --> 14 \t\t7 9 10 18 14 \n7 --> 15 \t\t7 9 10 13 15 \n7 --> 16 \t\t7 9 8 11 16 \n7 --> 17 \t\t7 9 10 18 17 \n7 --> 18 \t\t7 9 10 18 \n\nWU\nVertex \t\t\t Path\n\n8 --> 1 \t\t8 9 7 0 1 \n8 --> 2 \t\t8 11 16 17 2 \n8 --> 3 \t\t8 9 7 3 \n8 --> 4 \t\t8 6 5 4 \n8 --> 5 \t\t8 6 5 \n8 --> 6 \t\t8 6 \n8 --> 7 \t\t8 9 7 \n8 --> 8 \t\t8 \n8 --> 9 \t\t8 9 \n8 --> 10 \t\t8 9 10 \n8 --> 11 \t\t8 11 \n8 --> 12 \t\t8 11 12 \n8 --> 13 \t\t8 9 10 13 \n8 --> 14 \t\t8 6 5 4 14 \n8 --> 15 \t\t8 9 10 13 15 \n8 --> 16 \t\t8 11 16 \n8 --> 17 \t\t8 11 16 17 \n8 --> 18 \t\t8 9 10 18 \n\nILL\nVertex \t\t\t Path\n\n9 --> 1 \t\t9 7 0 1 \n9 --> 2 \t\t9 10 18 17 2 \n9 --> 3 \t\t9 7 3 \n9 --> 4 \t\t9 10 18 14 4 \n9 --> 5 \t\t9 7 0 1 5 \n9 --> 6 \t\t9 8 6 \n9 --> 7 \t\t9 7 \n9 --> 8 \t\t9 8 \n9 --> 9 \t\t9 \n9 --> 10 \t\t9 10 \n9 --> 11 \t\t9 8 11 \n9 --> 12 \t\t9 10 13 12 \n9 --> 13 \t\t9 10 13 \n9 --> 14 \t\t9 10 18 14 \n9 --> 15 \t\t9 10 13 15 \n9 --> 16 \t\t9 8 11 16 \n9 --> 17 \t\t9 10 18 17 \n9 --> 18 \t\t9 10 18 \n\nMICH\nVertex \t\t\t Path\n\n10 --> 1 \t\t10 9 7 0 1 \n10 --> 2 \t\t10 18 17 2 \n10 --> 3 \t\t10 9 7 3 \n10 --> 4 \t\t10 18 14 4 \n10 --> 5 \t\t10 9 7 0 1 5 \n10 --> 6 \t\t10 9 8 6 \n10 --> 7 \t\t10 9 7 \n10 --> 8 \t\t10 9 8 \n10 --> 9 \t\t10 9 \n10 --> 10 \t\t10 \n10 --> 11 \t\t10 9 8 11 \n10 --> 12 \t\t10 13 12 \n10 --> 13 \t\t10 13 \n10 --> 14 \t\t10 18 14 \n10 --> 15 \t\t10 13 15 \n10 --> 16 \t\t10 9 8 11 16 \n10 --> 17 \t\t10 18 17 \n10 --> 18 \t\t10 18 \n\nCMU\nVertex \t\t\t Path\n\n11 --> 1 \t\t11 8 9 7 0 1 \n11 --> 2 \t\t11 16 17 2 \n11 --> 3 \t\t11 8 9 7 3 \n11 --> 4 \t\t11 8 6 5 4 \n11 --> 5 \t\t11 8 6 5 \n11 --> 6 \t\t11 8 6 \n11 --> 7 \t\t11 8 9 7 \n11 --> 8 \t\t11 8 \n11 --> 9 \t\t11 8 9 \n11 --> 10 \t\t11 8 9 10 \n11 --> 11 \t\t11 \n11 --> 12 \t\t11 12 \n11 --> 13 \t\t11 12 13 \n11 --> 14 \t\t11 8 6 5 4 14 \n11 --> 15 \t\t11 12 13 15 \n11 --> 16 \t\t11 16 \n11 --> 17 \t\t11 16 17 \n11 --> 18 \t\t11 8 9 10 18 \n\nARPA\nVertex \t\t\t Path\n\n12 --> 1 \t\t12 13 10 9 7 0 1 \n12 --> 2 \t\t12 13 10 18 17 2 \n12 --> 3 \t\t12 13 10 9 7 3 \n12 --> 4 \t\t12 13 10 18 14 4 \n12 --> 5 \t\t12 11 8 6 5 \n12 --> 6 \t\t12 11 8 6 \n12 --> 7 \t\t12 13 10 9 7 \n12 --> 8 \t\t12 11 8 \n12 --> 9 \t\t12 13 10 9 \n12 --> 10 \t\t12 13 10 \n12 --> 11 \t\t12 11 \n12 --> 12 \t\t12 \n12 --> 13 \t\t12 13 \n12 --> 14 \t\t12 13 10 18 14 \n12 --> 15 \t\t12 13 15 \n12 --> 16 \t\t12 11 16 \n12 --> 17 \t\t12 13 10 18 17 \n12 --> 18 \t\t12 13 10 18 \n\nBTL\nVertex \t\t\t Path\n\n13 --> 1 \t\t13 10 9 7 0 1 \n13 --> 2 \t\t13 10 18 17 2 \n13 --> 3 \t\t13 10 9 7 3 \n13 --> 4 \t\t13 10 18 14 4 \n13 --> 5 \t\t13 10 9 7 0 1 5 \n13 --> 6 \t\t13 10 9 8 6 \n13 --> 7 \t\t13 10 9 7 \n13 --> 8 \t\t13 10 9 8 \n13 --> 9 \t\t13 10 9 \n13 --> 10 \t\t13 10 \n13 --> 11 \t\t13 12 11 \n13 --> 12 \t\t13 12 \n13 --> 13 \t\t13 \n13 --> 14 \t\t13 10 18 14 \n13 --> 15 \t\t13 15 \n13 --> 16 \t\t13 12 11 16 \n13 --> 17 \t\t13 10 18 17 \n13 --> 18 \t\t13 10 18 \n\nHARV\nVertex \t\t\t Path\n\n14 --> 1 \t\t14 18 17 2 1 \n14 --> 2 \t\t14 18 17 2 \n14 --> 3 \t\t14 4 3 \n14 --> 4 \t\t14 4 \n14 --> 5 \t\t14 4 5 \n14 --> 6 \t\t14 18 10 9 8 6 \n14 --> 7 \t\t14 18 10 9 7 \n14 --> 8 \t\t14 18 10 9 8 \n14 --> 9 \t\t14 18 10 9 \n14 --> 10 \t\t14 18 10 \n14 --> 11 \t\t14 18 10 9 8 11 \n14 --> 12 \t\t14 18 10 13 12 \n14 --> 13 \t\t14 18 10 13 \n14 --> 14 \t\t14 \n14 --> 15 \t\t14 15 \n14 --> 16 \t\t14 15 16 \n14 --> 17 \t\t14 18 17 \n14 --> 18 \t\t14 18 \n\nLL\nVertex \t\t\t Path\n\n15 --> 1 \t\t15 13 10 9 7 0 1 \n15 --> 2 \t\t15 13 10 18 17 2 \n15 --> 3 \t\t15 14 4 3 \n15 --> 4 \t\t15 14 4 \n15 --> 5 \t\t15 14 4 5 \n15 --> 6 \t\t15 13 10 9 8 6 \n15 --> 7 \t\t15 13 10 9 7 \n15 --> 8 \t\t15 13 10 9 8 \n15 --> 9 \t\t15 13 10 9 \n15 --> 10 \t\t15 13 10 \n15 --> 11 \t\t15 13 12 11 \n15 --> 12 \t\t15 13 12 \n15 --> 13 \t\t15 13 \n15 --> 14 \t\t15 14 \n15 --> 15 \t\t15 \n15 --> 16 \t\t15 16 \n15 --> 17 \t\t15 13 10 18 17 \n15 --> 18 \t\t15 13 10 18 \n\nBBN\nVertex \t\t\t Path\n\n16 --> 1 \t\t16 17 2 1 \n16 --> 2 \t\t16 17 2 \n16 --> 3 \t\t16 17 2 3 \n16 --> 4 \t\t16 11 8 6 5 4 \n16 --> 5 \t\t16 11 8 6 5 \n16 --> 6 \t\t16 11 8 6 \n16 --> 7 \t\t16 11 8 9 7 \n16 --> 8 \t\t16 11 8 \n16 --> 9 \t\t16 11 8 9 \n16 --> 10 \t\t16 11 8 9 10 \n16 --> 11 \t\t16 11 \n16 --> 12 \t\t16 11 12 \n16 --> 13 \t\t16 11 12 13 \n16 --> 14 \t\t16 15 14 \n16 --> 15 \t\t16 15 \n16 --> 16 \t\t16 \n16 --> 17 \t\t16 17 \n16 --> 18 \t\t16 11 8 9 10 18 \n\nMAC\nVertex \t\t\t Path\n\n17 --> 1 \t\t17 2 1 \n17 --> 2 \t\t17 2 \n17 --> 3 \t\t17 2 3 \n17 --> 4 \t\t17 18 14 4 \n17 --> 5 \t\t17 2 1 5 \n17 --> 6 \t\t17 16 11 8 6 \n17 --> 7 \t\t17 18 10 9 7 \n17 --> 8 \t\t17 16 11 8 \n17 --> 9 \t\t17 18 10 9 \n17 --> 10 \t\t17 18 10 \n17 --> 11 \t\t17 16 11 \n17 --> 12 \t\t17 18 10 13 12 \n17 --> 13 \t\t17 18 10 13 \n17 --> 14 \t\t17 18 14 \n17 --> 15 \t\t17 18 10 13 15 \n17 --> 16 \t\t17 16 \n17 --> 17 \t\t17 \n17 --> 18 \t\t17 18 \n\nDART\nVertex \t\t\t Path\n\n18 --> 1 \t\t18 17 2 1 \n18 --> 2 \t\t18 17 2 \n18 --> 3 \t\t18 17 2 3 \n18 --> 4 \t\t18 14 4 \n18 --> 5 \t\t18 17 2 1 5 \n18 --> 6 \t\t18 10 9 8 6 \n18 --> 7 \t\t18 10 9 7 \n18 --> 8 \t\t18 10 9 8 \n18 --> 9 \t\t18 10 9 \n18 --> 10 \t\t18 10 \n18 --> 11 \t\t18 10 9 8 11 \n18 --> 12 \t\t18 10 13 12 \n18 --> 13 \t\t18 10 13 \n18 --> 14 \t\t18 14 \n18 --> 15 \t\t18 10 13 15 \n18 --> 16 \t\t18 10 9 8 11 16 \n18 --> 17 \t\t18 17 \n18 --> 18 \t\t18 "
     ],
     "output_type": "stream"
    }
   ],
   "source": [
    "from Betweenness import dijkstra as dijkstra_b\n",
    "\n",
    "university_list = [\n",
    "    'RAND', 'UCSB', 'SU', 'UCB', 'SRI',\n",
    "    'UCLA', 'SDC', 'UTAH', 'WU', 'ILL',\n",
    "    'MICH', 'CMU', 'ARPA', 'BTL', 'HARV', \n",
    "    'LL', 'BBN', 'MAC', 'DART'\n",
    "]\n",
    "\n",
    "for i in range(len(adj_mat)):\n",
    "    print('\\n\\n' + university_list[i])\n",
    "    dijkstra_b(adj_mat, i)\n",
    "    "
   ],
   "metadata": {
    "collapsed": false,
    "pycharm": {
     "name": "#%%\n",
     "is_executing": false
    }
   }
  }
 ],
 "metadata": {
  "kernelspec": {
   "display_name": "Python 3",
   "language": "python",
   "name": "python3"
  },
  "language_info": {
   "codemirror_mode": {
    "name": "ipython",
    "version": 2
   },
   "file_extension": ".py",
   "mimetype": "text/x-python",
   "name": "python",
   "nbconvert_exporter": "python",
   "pygments_lexer": "ipython2",
   "version": "2.7.6"
  },
  "pycharm": {
   "stem_cell": {
    "cell_type": "raw",
    "source": [],
    "metadata": {
     "collapsed": false
    }
   }
  }
 },
 "nbformat": 4,
 "nbformat_minor": 0
}