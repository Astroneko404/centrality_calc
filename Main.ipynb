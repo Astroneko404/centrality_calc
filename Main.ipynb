{
 "cells": [
  {
   "cell_type": "markdown",
   "metadata": {
    "collapsed": true,
    "pycharm": {
     "is_executing": false,
     "name": "#%% md\n"
    }
   },
   "source": [
    "### Calculating the centrality of every node in the Arpanet"
   ]
  },
  {
   "cell_type": "code",
   "execution_count": 33,
   "outputs": [
    {
     "data": {
      "text/plain": "<IPython.core.display.HTML object>",
      "text/html": "\n<style>\n    div#notebook-container    { width: 95%; }\n    div#menubar-container     { width: 65%; }\n    div#maintoolbar-container { width: 99%; }\n</style>\n"
     },
     "metadata": {},
     "output_type": "display_data"
    }
   ],
   "source": [
    "from IPython.display import display, HTML\n",
    "\n",
    "display(HTML(data=\"\"\"\n",
    "<style>\n",
    "    div#notebook-container    { width: 95%; }\n",
    "    div#menubar-container     { width: 65%; }\n",
    "    div#maintoolbar-container { width: 99%; }\n",
    "</style>\n",
    "\"\"\"))"
   ],
   "metadata": {
    "collapsed": false,
    "pycharm": {
     "name": "#%%\n",
     "is_executing": false
    }
   }
  },
  {
   "cell_type": "markdown",
   "source": [
    "Here is an image of the Arpanet, according to homework assignment 1: \n",
    "<img src='https://user-images.githubusercontent.com/33112694/69269469-fcbf9480-0bc8-11ea-92a3-73fb4f689ec7.png' />\n",
    "\n",
    "For edges without weight values, we assume that the weight is 0.1, \n",
    "and here is the corresponding adjacent matrix:\n",
    "\n",
    "|&nbsp;| RAND | UCSB | SU   | UCB | SRI | UCLA | SDC | UTAH | WU   | ILL  | MICH | CMU  | ARPA | BTL  | HARV | LL   | BBN  | MAC  | DART |\n",
    "|------|------|------|------|-----|-----|------|-----|------|------|------|------|------|------|------|------|------|------|------|------|\n",
    "| RAND | 0    | 0\\.3 | 0    | 0   | 0   | 0    | 1   | 2    | 0    | 0    | 0    | 0    | 0    | 0    | 0    | 0    | 0    | 0    | 0    |\n",
    "| UCSB | 0\\.3 | 0    | 0\\.7 | 0   | 0   | 0\\.3 | 0   | 0    | 0    | 0    | 0    | 0    | 0    | 0    | 0    | 0    | 0    | 0    | 0    |\n",
    "| SU   | 0    | 0\\.7 | 0    | 1   | 0   | 0    | 0   | 0    | 0    | 0    | 0    | 0    | 0    | 0    | 0    | 0    | 0    | 8    | 0    |\n",
    "| UCB  | 0    | 0    | 1    | 0   | 1   | 0    | 0   | 1    | 0    | 0    | 0    | 0    | 0    | 0    | 0    | 0    | 0    | 0    | 0    |\n",
    "| SRI  | 0    | 0    | 0    | 1   | 0   | 1    | 0   | 0    | 0    | 0    | 0    | 0    | 0    | 0    | 8    | 0    | 0    | 0    | 0    |\n",
    "| UCLA | 0    | 0\\.3 | 0    | 0   | 1   | 0    | 1   | 0    | 0    | 0    | 0    | 0    | 0    | 0    | 0    | 0    | 0    | 0    | 0    |\n",
    "| SDC  | 1    | 0    | 0    | 0   | 0   | 1    | 0   | 0    | 5    | 0    | 0    | 0    | 0    | 0    | 0    | 0    | 0    | 0    | 0    |\n",
    "| UTAH | 2    | 0    | 0    | 1   | 0   | 0    | 0   | 0    | 0    | 4    | 0    | 0    | 0    | 0    | 0    | 0    | 0    | 0    | 0    |\n",
    "| WU   | 0    | 0    | 0    | 0   | 0   | 0    | 5   | 0    | 0    | 0\\.4 | 0    | 1\\.8 | 0    | 0    | 0    | 0    | 0    | 0    | 0    |\n",
    "| ILL  | 0    | 0    | 0    | 0   | 0   | 0    | 0   | 4    | 0\\.4 | 0    | 1    | 0    | 0    | 0    | 0    | 0    | 0    | 0    | 0    |\n",
    "| MICH | 0    | 0    | 0    | 0   | 0   | 0    | 0   | 0    | 0    | 1    | 0    | 0    | 0    | 1\\.5 | 0    | 0    | 0    | 0    | 1\\.8 |\n",
    "| CMU  | 0    | 0    | 0    | 0   | 0   | 0    | 0   | 0    | 1\\.8 | 0    | 0    | 0    | 0\\.5 | 0    | 0    | 0    | 1\\.4 | 0    | 0    |\n",
    "| ARPA | 0    | 0    | 0    | 0   | 0   | 0    | 0   | 0    | 0    | 0    | 0    | 0\\.5 | 0    | 0\\.6 | 0    | 0    | 0    | 0    | 0    |\n",
    "| BTL  | 0    | 0    | 0    | 0   | 0   | 0    | 0   | 0    | 0    | 0    | 1\\.5 | 0    | 0\\.6 | 0    | 0    | 0\\.6 | 0    | 0    | 0    |\n",
    "| HARV | 0    | 0    | 0    | 0   | 8   | 0    | 0   | 0    | 0    | 0    | 0    | 0    | 0    | 0    | 0    | 0\\.1 | 0    | 0    | 0\\.3 |\n",
    "| LL   | 0    | 0    | 0    | 0   | 0   | 0    | 0   | 0    | 0    | 0    | 0    | 0    | 0    | 0\\.6 | 0\\.1 | 0    | 0\\.1 | 0    | 0    |\n",
    "| BBN  | 0    | 0    | 0    | 0   | 0   | 0    | 0   | 0    | 0    | 0    | 0    | 1\\.4 | 0    | 0    | 0    | 0\\.1 | 0    | 0\\.1 | 0    |\n",
    "| MAC  | 0    | 0    | 8    | 0   | 0   | 0    | 0   | 0    | 0    | 0    | 0    | 0    | 0    | 0    | 0    | 0    | 0\\.1 | 0    | 0\\.3 |\n",
    "| DART | 0    | 0    | 0    | 0   | 0   | 0    | 0   | 0    | 0    | 0    | 1\\.8 | 0    | 0    | 0    | 0\\.3 | 0    | 0    | 0\\.3 | 0    |"
   ],
   "metadata": {
    "collapsed": false,
    "pycharm": {
     "name": "#%% md\n"
    }
   }
  },
  {
   "cell_type": "code",
   "execution_count": 34,
   "outputs": [],
   "source": [
    "adj_mat = [\n",
    "    [0,0.3,0,0,0,0,1,2,0,0,0,0,0,0,0,0,0,0,0],      # RAND\n",
    "    [0.3,0,0.7,0,0,0.3,0,0,0,0,0,0,0,0,0,0,0,0,0],  # UCSB\n",
    "    [0,0.7,0,1,0,0,0,0,0,0,0,0,0,0,0,0,0,8,0],      # SU\n",
    "    [0,0,1,0,1,0,0,1,0,0,0,0,0,0,0,0,0,0,0],        # UCB\n",
    "    [0,0,0,1,0,1,0,0,0,0,0,0,0,0,8,0,0,0,0],        # SRI\n",
    "    [0,0.3,0,0,1,0,1,0,0,0,0,0,0,0,0,0,0,0,0],      # UCLA\n",
    "    [1,0,0,0,0,1,0,0,5,0,0,0,0,0,0,0,0,0,0],        # SDC\n",
    "    [2,0,0,1,0,0,0,0,0,4,0,0,0,0,0,0,0,0,0],        # UTAH\n",
    "    [0,0,0,0,0,0,5,0,0,0.4,0,1.8,0,0,0,0,0,0,0],    # WU\n",
    "    [0,0,0,0,0,0,0,4,0.4,0,1,0,0,0,0,0,0,0,0],      # ILL\n",
    "    [0,0,0,0,0,0,0,0,0,1,0,0,0,1.5,0,0,0,0,1.8],    # MICH\n",
    "    [0,0,0,0,0,0,0,0,1.8,0,0,0,0.5,0,0,0,1.4,0,0],  # CMU\n",
    "    [0,0,0,0,0,0,0,0,0,0,0,0.5,0,0.6,0,0,0,0,0],    # ARPA\n",
    "    [0,0,0,0,0,0,0,0,0,0,1.5,0,0.6,0,0,0.6,0,0,0],  # BTL\n",
    "    [0,0,0,0,8,0,0,0,0,0,0,0,0,0,0,0.1,0,0,0.3],    # HARV\n",
    "    [0,0,0,0,0,0,0,0,0,0,0,0,0,0.6,0.1,0,0.1,0,0],  # LL\n",
    "    [0,0,0,0,0,0,0,0,0,0,0,1.4,0,0,0,0.1,0,0.1,0],  # BBN\n",
    "    [0,0,8,0,0,0,0,0,0,0,0,0,0,0,0,0,0.1,0,0.3],    # MAC\n",
    "    [0,0,0,0,0,0,0,0,0,0,1.8,0,0,0,0.3,0,0,0.3,0]   # DART\n",
    "]"
   ],
   "metadata": {
    "collapsed": false,
    "pycharm": {
     "name": "#%%\n",
     "is_executing": false
    }
   }
  },
  {
   "cell_type": "markdown",
   "source": [
    "#### Degree centrality\n",
    "According to the formula, we have\n",
    "\n",
    "<img src='https://user-images.githubusercontent.com/33112694/66724949-b170d400-ee1b-11e9-96f7-357996eadb8a.png' />"
   ],
   "metadata": {
    "collapsed": false
   }
  },
  {
   "cell_type": "code",
   "execution_count": 35,
   "outputs": [],
   "source": [
    "def degree_centrality(mat, weighted=False, alpha=1):\n",
    "    n = len(mat)\n",
    "    if n == 0:\n",
    "        return None\n",
    "    \n",
    "    result = []\n",
    "    for row in mat:\n",
    "        if not weighted:\n",
    "            nw_score = sum([1 for x in row if x > 0])\n",
    "            result.append(nw_score / (n - 1))\n",
    "        else:\n",
    "            nw_score = sum([1 for x in row if x > 0])\n",
    "            w_score = sum(row)\n",
    "            result.append(nw_score ** (1 - alpha) * w_score ** alpha / (n - 1))\n",
    "            \n",
    "    return result\n",
    "\n",
    "d_cent_non_weighted = degree_centrality(adj_mat, weighted=False)\n",
    "d_cent_weighted = degree_centrality(adj_mat, weighted=True, alpha=0.5)"
   ],
   "metadata": {
    "collapsed": false,
    "pycharm": {
     "name": "#%%\n",
     "is_executing": false
    }
   }
  },
  {
   "cell_type": "markdown",
   "source": [
    "If we ignore edge weights, the degree centrality for each node is:\n",
    "\n",
    "| RAND | UCSB | SU   | UCB | SRI | UCLA | SDC | UTAH | WU   | ILL  | MICH | CMU  | ARPA | BTL  | HARV | LL   | BBN  | MAC  | DART |\n",
    "|------|------|------|-----|-----|------|-----|------|------|------|------|------|------|------|------|------|------|------|------|\n",
    "| 0.167| 0.167| 0.167|0.167|0.167| 0.167|0.167| 0.167| 0.167| 0.167| 0.167| 0.167| 0.111| 0.167| 0.167| 0.167| 0.167| 0.167| 0.167|\n",
    "\n",
    "However, according to <i>Node Centrality in Weighted Networks: Generalizing Degree and Shortest Paths</i>\n",
    "by Tore Opsahl et al., we could improve the algorithm by combine the weighted node strength and the non-weighted node strength.\n",
    "\n",
    "Here is the weighted degree centrality:\n",
    "\n",
    "| RAND | UCSB | SU   | UCB | SRI | UCLA | SDC | UTAH | WU   | ILL  | MICH | CMU  | ARPA | BTL  | HARV | LL   | BBN  | MAC  | DART |\n",
    "|------|------|------|-----|-----|------|-----|------|------|------|------|------|------|------|------|------|------|------|------|\n",
    "| 0.175|0.110 | 0.300|0.167|0.304| 0.146|0.255| 0.255| 0.258| 0.223| 0.200| 0.185| 0.082| 0.158| 0.279| 0.086| 0.122| 0.279| 0.149|\n"
   ],
   "metadata": {
    "collapsed": false
   }
  }
 ],
 "metadata": {
  "kernelspec": {
   "display_name": "Python 3",
   "language": "python",
   "name": "python3"
  },
  "language_info": {
   "codemirror_mode": {
    "name": "ipython",
    "version": 2
   },
   "file_extension": ".py",
   "mimetype": "text/x-python",
   "name": "python",
   "nbconvert_exporter": "python",
   "pygments_lexer": "ipython2",
   "version": "2.7.6"
  },
  "pycharm": {
   "stem_cell": {
    "cell_type": "raw",
    "source": [],
    "metadata": {
     "collapsed": false
    }
   }
  }
 },
 "nbformat": 4,
 "nbformat_minor": 0
}