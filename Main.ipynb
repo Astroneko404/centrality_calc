{
 "cells": [
  {
   "cell_type": "markdown",
   "metadata": {
    "collapsed": true,
    "pycharm": {
     "is_executing": false,
     "name": "#%% md\n"
    }
   },
   "source": [
    "### Calculating the centrality of every node in the Arpanet"
   ]
  },
  {
   "cell_type": "markdown",
   "source": [
    "Here is an image of the Arpanet, according to homework assignment 1: \n",
    "<img src='https://user-images.githubusercontent.com/33112694/69269469-fcbf9480-0bc8-11ea-92a3-73fb4f689ec7.png' />\n",
    "\n",
    "For edges without weight values, we assume that the weight is 0.1, \n",
    "and here is the corresponding adjacent matrix:\n",
    "\n",
    "|&nbsp;| RAND | UCSB | SU   | UCB | SRI | UCLA | SDC | UTAH | WU   | ILL  | MICH | CMU  | ARPA | BTL  | HARV | LL   | BBN  | MAC  | DART |\n",
    "|------|------|------|------|-----|-----|------|-----|------|------|------|------|------|------|------|------|------|------|------|------|\n",
    "| RAND | 0    | 0.3  | 0    | 0   | 0   | 0    | 0.1 | 2    | 0    | 0    | 0    | 0    | 0    | 0    | 0    | 0    | 0    | 0    | 0    |\n",
    "| UCSB | 0.3  | 0    | 0.7  | 0   | 0   | 0.3  | 0   | 0    | 0    | 0    | 0    | 0    | 0    | 0    | 0    | 0    | 0    | 0    | 0    |\n",
    "| SU   | 0    | 0.7  | 0    | 0.1 | 0   | 0    | 0   | 0    | 0    | 0    | 0    | 0    | 0    | 0    | 0    | 0    | 0    | 8    | 0    |\n",
    "| UCB  | 0    | 0    | 0.1  | 0   | 0.1 | 0    | 0   | 0.1  | 0    | 0    | 0    | 0    | 0    | 0    | 0    | 0    | 0    | 0    | 0    |\n",
    "| SRI  | 0    | 0    | 0    | 0.1 | 0   | 0.1  | 0   | 0    | 0    | 0    | 0    | 0    | 0    | 0    | 8    | 0    | 0    | 0    | 0    |\n",
    "| UCLA | 0    | 0.3  | 0    | 0   | 1   | 0    | 0.1 | 0    | 0    | 0    | 0    | 0    | 0    | 0    | 0    | 0    | 0    | 0    | 0    |\n",
    "| SDC  | 0.1  | 0    | 0    | 0   | 0   | 0.1  | 0   | 0    | 5    | 0    | 0    | 0    | 0    | 0    | 0    | 0    | 0    | 0    | 0    |\n",
    "| UTAH | 2    | 0    | 0    | 0.1 | 0   | 0    | 0   | 0    | 0    | 4    | 0    | 0    | 0    | 0    | 0    | 0    | 0    | 0    | 0    |\n",
    "| WU   | 0    | 0    | 0    | 0   | 0   | 0    | 5   | 0    | 0    | 0.4  | 0    | 1.8  | 0    | 0    | 0    | 0    | 0    | 0    | 0    |\n",
    "| ILL  | 0    | 0    | 0    | 0   | 0   | 0    | 0   | 4    | 0.4  | 0    | 1    | 0    | 0    | 0    | 0    | 0    | 0    | 0    | 0    |\n",
    "| MICH | 0    | 0    | 0    | 0   | 0   | 0    | 0   | 0    | 0    | 1    | 0    | 0    | 0    | 1.5  | 0    | 0    | 0    | 0    | 1.8  |\n",
    "| CMU  | 0    | 0    | 0    | 0   | 0   | 0    | 0   | 0    | 1.8  | 0    | 0    | 0    | 0.5  | 0    | 0    | 0    | 1.4  | 0    | 0    |\n",
    "| ARPA | 0    | 0    | 0    | 0   | 0   | 0    | 0   | 0    | 0    | 0    | 0    | 0.5  | 0    | 0.6  | 0    | 0    | 0    | 0    | 0    |\n",
    "| BTL  | 0    | 0    | 0    | 0   | 0   | 0    | 0   | 0    | 0    | 0    | 1.5  | 0    | 0.6  | 0    | 0    | 0.6  | 0    | 0    | 0    |\n",
    "| HARV | 0    | 0    | 0    | 0   | 8   | 0    | 0   | 0    | 0    | 0    | 0    | 0    | 0    | 0    | 0    | 0.1  | 0    | 0    | 0.3  |\n",
    "| LL   | 0    | 0    | 0    | 0   | 0   | 0    | 0   | 0    | 0    | 0    | 0    | 0    | 0    | 0.6  | 0.1  | 0    | 0.1  | 0    | 0    |\n",
    "| BBN  | 0    | 0    | 0    | 0   | 0   | 0    | 0   | 0    | 0    | 0    | 0    | 1.4  | 0    | 0    | 0    | 0.1  | 0    | 0.1  | 0    |\n",
    "| MAC  | 0    | 0    | 8    | 0   | 0   | 0    | 0   | 0    | 0    | 0    | 0    | 0    | 0    | 0    | 0    | 0    | 0.1  | 0    | 0.3  |\n",
    "| DART | 0    | 0    | 0    | 0   | 0   | 0    | 0   | 0    | 0    | 0    | 1.8  | 0    | 0    | 0    | 0.3  | 0    | 0    | 0.3  | 0    |"
   ],
   "metadata": {
    "collapsed": false,
    "pycharm": {
     "name": "#%% md\n"
    }
   }
  },
  {
   "cell_type": "code",
   "execution_count": 51,
   "outputs": [],
   "source": [
    "adj_mat = [\n",
    "    [0,0.3,0,0,0,0,0.1,2,0,0,0,0,0,0,0,0,0,0,0],    # RAND\n",
    "    [0.3,0,0.7,0,0,0.3,0,0,0,0,0,0,0,0,0,0,0,0,0],  # UCSB\n",
    "    [0,0.7,0,0.1,0,0,0,0,0,0,0,0,0,0,0,0,0,8,0],    # SU\n",
    "    [0,0,0.1,0,0.1,0,0,0.1,0,0,0,0,0,0,0,0,0,0,0],  # UCB\n",
    "    [0,0,0,0.1,0,0.1,0,0,0,0,0,0,0,0,8,0,0,0,0],    # SRI\n",
    "    [0,0.3,0,0,1,0,0.1,0,0,0,0,0,0,0,0,0,0,0,0],    # UCLA\n",
    "    [0.1,0,0,0,0,0.1,0,0,5,0,0,0,0,0,0,0,0,0,0],    # SDC\n",
    "    [2,0,0,0.1,0,0,0,0,0,4,0,0,0,0,0,0,0,0,0],      # UTAH\n",
    "    [0,0,0,0,0,0,5,0,0,0.4,0,1.8,0,0,0,0,0,0,0],    # WU\n",
    "    [0,0,0,0,0,0,0,4,0.4,0,1,0,0,0,0,0,0,0,0],      # ILL\n",
    "    [0,0,0,0,0,0,0,0,0,1,0,0,0,1.5,0,0,0,0,1.8],    # MICH\n",
    "    [0,0,0,0,0,0,0,0,1.8,0,0,0,0.5,0,0,0,1.4,0,0],  # CMU\n",
    "    [0,0,0,0,0,0,0,0,0,0,0,0.5,0,0.6,0,0,0,0,0],    # ARPA\n",
    "    [0,0,0,0,0,0,0,0,0,0,1.5,0,0.6,0,0,0.6,0,0,0],  # BTL\n",
    "    [0,0,0,0,8,0,0,0,0,0,0,0,0,0,0,0.1,0,0,0.3],    # HARV\n",
    "    [0,0,0,0,0,0,0,0,0,0,0,0,0,0.6,0.1,0,0.1,0,0],  # LL\n",
    "    [0,0,0,0,0,0,0,0,0,0,0,1.4,0,0,0,0.1,0,0.1,0],  # BBN\n",
    "    [0,0,8,0,0,0,0,0,0,0,0,0,0,0,0,0,0.1,0,0.3],    # MAC\n",
    "    [0,0,0,0,0,0,0,0,0,0,1.8,0,0,0,0.3,0,0,0.3,0]   # DART\n",
    "]"
   ],
   "metadata": {
    "collapsed": false,
    "pycharm": {
     "name": "#%%\n",
     "is_executing": false
    }
   }
  },
  {
   "cell_type": "markdown",
   "source": [
    "#### Degree Centrality\n",
    "Formula:\n",
    "\n",
    "<img src='https://user-images.githubusercontent.com/33112694/66724949-b170d400-ee1b-11e9-96f7-357996eadb8a.png' />"
   ],
   "metadata": {
    "collapsed": false
   }
  },
  {
   "cell_type": "code",
   "execution_count": 52,
   "outputs": [],
   "source": [
    "def degree_centrality(mat, weighted=False, alpha=1):\n",
    "    n = len(mat)\n",
    "    if n == 0:\n",
    "        return None\n",
    "    \n",
    "    result = []\n",
    "    for row in mat:\n",
    "        if not weighted:\n",
    "            nw_score = sum([1 for x in row if x > 0])\n",
    "            result.append(nw_score / (n - 1))\n",
    "        else:\n",
    "            nw_score = sum([1 for x in row if x > 0])\n",
    "            w_score = sum(row)\n",
    "            result.append(nw_score ** (1 - alpha) * w_score ** alpha / (n - 1))\n",
    "            \n",
    "    return result\n",
    "\n",
    "d_cent_non_weighted = degree_centrality(adj_mat, weighted=False)\n",
    "d_cent_weighted = degree_centrality(adj_mat, weighted=True, alpha=0.5)\n",
    "# print(d_cent_weighted)"
   ],
   "metadata": {
    "collapsed": false,
    "pycharm": {
     "name": "#%%\n",
     "is_executing": false
    }
   }
  },
  {
   "cell_type": "markdown",
   "source": [
    "If we ignore edge weights, the degree centrality for each node is:"
   ],
   "metadata": {
    "collapsed": false
   }
  },
  {
   "cell_type": "markdown",
   "source": [
    "| RAND | UCSB | SU   | UCB | SRI | UCLA | SDC | UTAH | WU   | ILL  | MICH | CMU  | ARPA | BTL  | HARV | LL   | BBN  | MAC  | DART |\n",
    "|:----:|:----:|:----:|:---:|:---:|:----:|:---:|:----:|:----:|:----:|:----:|:----:|:----:|:----:|:----:|:----:|:----:|:----:|:----:|\n",
    "| 0.17 | 0.17 | 0.17 | 0.17| 0.17| 0.17 | 0.17| 0.17 | 0.17 | 0.17 | 0.17 | 0.17 | 0.11 | 0.17 | 0.17 | 0.17 | 0.17 | 0.17 | 0.17 |"
   ],
   "metadata": {
    "collapsed": false
   }
  },
  {
   "cell_type": "markdown",
   "source": [
    "However, according to <i>Node Centrality in Weighted Networks: Generalizing Degree and Shortest Paths</i>\n",
    "by Tore Opsahl et al., we could improve the algorithm by combine the weighted node strength and the non-weighted node strength.\n",
    "\n",
    "Here is the weighted degree centrality:"
   ],
   "metadata": {
    "collapsed": false
   }
  },
  {
   "cell_type": "markdown",
   "source": [
    "| RAND | UCSB | SU   | UCB | SRI | UCLA | SDC | UTAH | WU   | ILL  | MICH | CMU  | ARPA | BTL  | HARV | LL   | BBN  | MAC  | DART |\n",
    "|:----:|:----:|:----:|:---:|:---:|:----:|:---:|:----:|:----:|:----:|:----:|:----:|:----:|:----:|:----:|:----:|:----:|:----:|:----:|\n",
    "| 0.15 | 0.11 | 0.29 |0.05 |0.28 | 0.11 |0.22 | 0.24 | 0.26 | 0.22 | 0.20 | 0.19 | 0.08 | 0.16 | 0.28 | 0.09 | 0.12 | 0.28 | 0.15 |"
   ],
   "metadata": {
    "collapsed": false
   }
  },
  {
   "cell_type": "markdown",
   "source": [
    "#### Closeness Centrality\n",
    "\n",
    "Formula:\n",
    "\n",
    "<img src='https://user-images.githubusercontent.com/33112694/66724978-044a8b80-ee1c-11e9-8913-aa2ee497d95f.png' />"
   ],
   "metadata": {
    "collapsed": false
   }
  },
  {
   "cell_type": "code",
   "execution_count": 53,
   "outputs": [
    {
     "name": "stdout",
     "text": [
      "[0, 1.8257418583505538, 3.0209704676849474, 3.869384441354927, 4.651483716701108, 3.6514837167011076, 3.1622776601683795, 0.7071067811865476, 2.788245611270737, 1.2071067811865475, 2.2071067811865475, 3.533601603770667, 4.314597810850079, 3.0236033621142733, 4.778204632037031, 4.314597810850079, 4.378755858499184, 3.3745238582782213, 2.9524627736864772]\n"
     ],
     "output_type": "stream"
    }
   ],
   "source": [
    "MAXINT = float('inf')\n",
    "\n",
    "def min_dist(graph, dist, shortest_path_list):\n",
    "    min_dist = MAXINT\n",
    "    min_index = 0\n",
    "\n",
    "    for v in range(len(graph)):\n",
    "        if dist[v] < min_dist and shortest_path_list[v] is False:\n",
    "            min_dist = dist[v]\n",
    "            min_index = v\n",
    "\n",
    "    return min_index\n",
    "\n",
    "def dijkstra(mat, src, alpha=0.5):\n",
    "    \"\"\"\n",
    "    :param mat: A 2*2 nested list (The adjacent matrix)\n",
    "    :param src: the index of the source node\n",
    "    :param alpha: weighted parameter\n",
    "    :return:\n",
    "    \"\"\"\n",
    "    # Do a convert of the original adjacent matrix\n",
    "    graph = []\n",
    "    for i in range(len(mat)):\n",
    "        row = mat[i]\n",
    "        new_row = []\n",
    "        for j in row:\n",
    "            if j == 0:\n",
    "                new_row.append(0)\n",
    "            else:\n",
    "                new_row.append(1/j)\n",
    "        graph.append(new_row)\n",
    "    \n",
    "    dist = [MAXINT] * len(graph)\n",
    "    dist[src] = 0\n",
    "    shortest_path_list = [False] * len(graph)\n",
    "\n",
    "    for i in range(len(graph)):\n",
    "        u = min_dist(graph, dist, shortest_path_list)\n",
    "        shortest_path_list[u] = True\n",
    "\n",
    "        for v in range(len(graph)):\n",
    "            if graph[u][v] > 0 and shortest_path_list[v] is False and dist[v] > dist[u] + graph[u][v] ** alpha:\n",
    "                dist[v] = dist[u] + graph[u][v] ** alpha\n",
    "\n",
    "    return dist\n",
    "\n",
    "result = dijkstra(adj_mat, 0, alpha=0.5)\n",
    "print(result)"
   ],
   "metadata": {
    "collapsed": false,
    "pycharm": {
     "name": "#%%\n",
     "is_executing": false
    }
   }
  }
 ],
 "metadata": {
  "kernelspec": {
   "display_name": "Python 3",
   "language": "python",
   "name": "python3"
  },
  "language_info": {
   "codemirror_mode": {
    "name": "ipython",
    "version": 2
   },
   "file_extension": ".py",
   "mimetype": "text/x-python",
   "name": "python",
   "nbconvert_exporter": "python",
   "pygments_lexer": "ipython2",
   "version": "2.7.6"
  },
  "pycharm": {
   "stem_cell": {
    "cell_type": "raw",
    "source": [],
    "metadata": {
     "collapsed": false
    }
   }
  }
 },
 "nbformat": 4,
 "nbformat_minor": 0
}